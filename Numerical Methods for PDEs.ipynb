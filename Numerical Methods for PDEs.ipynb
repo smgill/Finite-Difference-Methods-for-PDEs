{
 "cells": [
  {
   "cell_type": "markdown",
   "metadata": {},
   "source": [
    "# Heat Conduction in a Thin Copper Rod\n",
    "To begin this exploration of numerical solutions to partial differential equations, I start by comparing numerical and analytical solutions to the heat equation in a long, one-dimensional copper rod initially at 25 $^{\\circ} C$ with one end held at 100 $^{\\circ} C$. It is assumed that the thermal diffusivity of copper is constant at 111 $mm^{2}/s$<sub>[1]</sub>. That is:\n",
    "\n",
    "$$ \\dfrac{\\partial T}{\\partial t} = \\alpha \\dfrac{\\partial^{2} T}{\\partial x^{2}}, \\quad T_{0} = 100 \\, ^{\\circ} C, \\quad T_{a} = 25 \\, ^{\\circ} C, \\quad \\alpha = 111 \\, \\frac{mm^{2}}{s} $$\n",
    "\n",
    "which has the analytical solution below.\n",
    "\n",
    "$$ T(x, \\, t) = \\left ( T_{0} - T_{a} \\right ) \\left [ 1 - \\text{erf} \\left ( \\dfrac{x}{2 \\sqrt{\\alpha t}} \\right ) \\right ] + T_{a}$$\n",
    "\n",
    "First, the exact solution to this problem is formulated:"
   ]
  },
  {
   "cell_type": "code",
   "execution_count": 1,
   "metadata": {},
   "outputs": [],
   "source": [
    "import numpy as np\n",
    "from scipy.special import erf\n",
    "\n",
    "# Parameter definitions:\n",
    "T0 = 100 # (C)\n",
    "Ta = 25 # (C)\n",
    "alpha = 111 # (mm^2/s)\n",
    "\n",
    "# Analytical solution definition:\n",
    "def T_exact(x, t):\n",
    "    return (T0 - Ta)*(1 - erf(x/(2*np.sqrt(alpha*t)))) + Ta"
   ]
  },
  {
   "cell_type": "markdown",
   "metadata": {},
   "source": [
    "Replacing partial derivatives with finite-difference approximations creates an equation that can be applied iteratively to discrete nodes along the copper rod. Superscripts denote discrete times and subscripts denote node. $l$ and $i$ are the current time step and node, respectively.\n",
    "\n",
    "$$ \\dfrac{\\partial T}{\\partial t} \\approx \\dfrac{T^{l + 1}_{i} - T^{l}_{i}}{\\Delta t}, \\quad \\dfrac{\\partial^{2} T}{\\partial x^{2}} \\approx \\dfrac{T^{l}_{i + 1} - 2T^{l}_{i} + T^{l}_{i - 1}}{(\\Delta x)^{2}} $$\n",
    "\n",
    "$$ \\therefore \\quad \\dfrac{T^{l + 1}_{i} - T^{l}_{i}}{\\Delta t} = \\alpha \\dfrac{T^{l}_{i + 1} - 2T^{l}_{i} + T^{l}_{i - 1}}{(\\Delta x)^{2}} $$\n",
    "\n",
    "A new term can be defined and the expression rearranged to solve for the temperature of a particular node at the next time step:\n",
    "\n",
    "$$ \\lambda \\equiv \\dfrac{\\alpha (\\Delta t)}{(\\Delta x)^{2}} $$\n",
    "\n",
    "$$ T^{l + 1}_{i} = T^{l}_{i} + \\lambda \\left ( T^{l}_{i + 1} - 2T^{l}_{i} + T^{l}_{i - 1} \\right ) $$\n",
    "\n",
    "It is known $\\Delta t$ must satisfy the following for the numerical solution to converge<sub>[2]</sub>:\n",
    "\n",
    "$$ \\Delta t \\leq \\dfrac{(\\Delta x)^{2}}{2 \\alpha} $$\n",
    "\n",
    "This numerical computation is now employed to get the PDE solution in the form of a position-time matrix."
   ]
  },
  {
   "cell_type": "code",
   "execution_count": 18,
   "metadata": {
    "scrolled": false
   },
   "outputs": [
    {
     "name": "stderr",
     "output_type": "stream",
     "text": [
      "Δx = 0.100, Δt = 0.000045: 100%|█████████████████████████████████████████████| 221999/221999 [08:13<00:00, 450.13it/s]\n"
     ]
    }
   ],
   "source": [
    "# tqdm handles progress bars.\n",
    "from tqdm import tqdm\n",
    "\n",
    "# Time and space limits for the computation should be specified. However, the rod in this example is infinitely long.\n",
    "t_stop = 10 # (s)\n",
    "x_stop = 100 # (mm)\n",
    "\n",
    "# spatial and temporal steps, ensuring the time step is sufficiently small to allow convergence:\n",
    "Dx = 0.1\n",
    "Dt = (Dx**2)/(2*alpha)\n",
    "lam = (alpha*Dt)/(Dx**2)\n",
    "\n",
    "# Initial condition and boundary condition:\n",
    "num_nodes = int(x_stop/Dx)\n",
    "num_time_steps = int(np.ceil(t_stop/Dt))\n",
    "T = Ta*np.ones((num_nodes, num_time_steps))\n",
    "T[0, :] = num_time_steps*[T0]\n",
    "\n",
    "# Compute the rod temperature distribution at every time step:\n",
    "for l in tqdm(range(num_time_steps - 1), desc='\\u0394x = %.3f, \\u0394t = %.6f' %(Dx, Dt)):\n",
    "    for i in range(num_nodes - 1):\n",
    "        T[i, l + 1] = T[i, l] + lam*(T[i + 1, l] - 2*T[i, l] + T[i - 1, l])"
   ]
  },
  {
   "cell_type": "markdown",
   "metadata": {},
   "source": [
    "# References\n",
    "1. Thermal diffusivity. (2020, June 16). Retrieved July 08, 2020, from https://en.wikipedia.org/wiki/Thermal_diffusivity\n",
    "2. Chapra, S. C., &amp; Canale, R. P. (2015). Numerical Methods for Engineers (7th ed.). New York, NY: McGraw-Hill Education."
   ]
  }
 ],
 "metadata": {
  "kernelspec": {
   "display_name": "Python 3",
   "language": "python",
   "name": "python3"
  },
  "language_info": {
   "codemirror_mode": {
    "name": "ipython",
    "version": 3
   },
   "file_extension": ".py",
   "mimetype": "text/x-python",
   "name": "python",
   "nbconvert_exporter": "python",
   "pygments_lexer": "ipython3",
   "version": "3.7.4"
  },
  "varInspector": {
   "cols": {
    "lenName": 16,
    "lenType": 16,
    "lenVar": 40
   },
   "kernels_config": {
    "python": {
     "delete_cmd_postfix": "",
     "delete_cmd_prefix": "del ",
     "library": "var_list.py",
     "varRefreshCmd": "print(var_dic_list())"
    },
    "r": {
     "delete_cmd_postfix": ") ",
     "delete_cmd_prefix": "rm(",
     "library": "var_list.r",
     "varRefreshCmd": "cat(var_dic_list()) "
    }
   },
   "position": {
    "height": "587.85px",
    "left": "1548px",
    "right": "20px",
    "top": "119px",
    "width": "350px"
   },
   "types_to_exclude": [
    "module",
    "function",
    "builtin_function_or_method",
    "instance",
    "_Feature"
   ],
   "window_display": false
  }
 },
 "nbformat": 4,
 "nbformat_minor": 2
}
