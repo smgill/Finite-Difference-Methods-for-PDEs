{
 "cells": [
  {
   "cell_type": "markdown",
   "metadata": {},
   "source": [
    "# Simple Explicit and Implict Methods Applied to Heat Conduction in a Thin Copper Rod\n",
    "By: Stefen Gill\n",
    "\n",
    "To begin this exploration of numerical solutions to partial differential equations, I start by comparing numerical and analytical solutions to the heat equation in a long, one-dimensional copper rod initially at 25 $^{\\circ} C$ with one end held at 100 $^{\\circ} C$. It is assumed that the thermal diffusivity of copper is constant at 111 $mm^{2}/s$<sub>[1]</sub>. That is:\n",
    "\n",
    "$$ \\dfrac{\\partial T}{\\partial t} = \\alpha \\dfrac{\\partial^{2} T}{\\partial x^{2}}, \\quad T_{0} = 100 \\, ^{\\circ} C, \\quad T_{a} = 25 \\, ^{\\circ} C, \\quad \\alpha = 111 \\, \\frac{mm^{2}}{s} $$\n",
    "\n",
    "which has the analytical solution below<sub>[2]</sub>.\n",
    "\n",
    "$$ T(x, \\, t) = \\left ( T_{0} - T_{a} \\right ) \\left [ 1 - \\text{erf} \\left ( \\dfrac{x}{2 \\sqrt{\\alpha t}} \\right ) \\right ] + T_{a}$$\n",
    "\n",
    "First, the exact solution to this problem is formulated:"
   ]
  },
  {
   "cell_type": "code",
   "execution_count": 1,
   "metadata": {},
   "outputs": [],
   "source": [
    "import numpy as np\n",
    "from scipy.special import erf\n",
    "\n",
    "# Parameter definitions:\n",
    "T0 = 100 # (C)\n",
    "Ta = 25 # (C)\n",
    "alpha = 111 # (mm^2/s)\n",
    "\n",
    "# Analytical solution definition:\n",
    "def T(x, t):\n",
    "    return (T0 - Ta)*(1 - erf(x/(2*np.sqrt(alpha*t)))) + Ta"
   ]
  },
  {
   "cell_type": "markdown",
   "metadata": {},
   "source": [
    "## Simple Explicit Method\n",
    "\n",
    "Replacing partial derivatives with finite-difference approximations creates an equation that can be applied iteratively to discrete nodes along the copper rod. Note that the nature of the finite difference approximations restricts these equations to interior nodes. Superscripts denote discrete time steps and subscripts denote node number. $l$ and $i$ are the current time step and node, respectively.\n",
    "\n",
    "$$ \\dfrac{\\partial T}{\\partial t} \\approx \\dfrac{T^{l + 1}_{i} - T^{l}_{i}}{\\Delta t}, \\quad \\dfrac{\\partial^{2} T}{\\partial x^{2}} \\approx \\dfrac{T^{l}_{i + 1} - 2T^{l}_{i} + T^{l}_{i - 1}}{(\\Delta x)^{2}} $$\n",
    "\n",
    "$$ \\therefore \\quad \\dfrac{T^{l + 1}_{i} - T^{l}_{i}}{\\Delta t} = \\alpha \\dfrac{T^{l}_{i + 1} - 2T^{l}_{i} + T^{l}_{i - 1}}{(\\Delta x)^{2}} $$\n",
    "\n",
    "A new term can be defined and the expression rearranged to solve for the temperature of a particular node at the next time step. The explicit method is named for this resulting equation which can be used to explicitly solve for future temperatures.\n",
    "\n",
    "$$ \\lambda \\equiv \\dfrac{\\alpha (\\Delta t)}{(\\Delta x)^{2}} $$\n",
    "\n",
    "$$ T^{l + 1}_{i} = T^{l}_{i} + \\lambda \\left ( T^{l}_{i + 1} - 2T^{l}_{i} + T^{l}_{i - 1} \\right ) $$\n",
    "\n",
    "It is known $\\Delta t$ must satisfy the following for the numerical solution to be convergent and stable<sub>[3]</sub>:\n",
    "\n",
    "$$ \\Delta t \\leq \\dfrac{(\\Delta x)^{2}}{2 \\alpha} $$\n",
    "\n",
    "This numerical computation is now employed to get the PDE solution in the form of a position-time matrix."
   ]
  },
  {
   "cell_type": "code",
   "execution_count": 2,
   "metadata": {
    "scrolled": false,
    "tags": []
   },
   "outputs": [
    {
     "output_type": "stream",
     "name": "stderr",
     "text": "Preparing Explicit Numerical Solution: 100%|██████████| 221999/221999 [11:39<00:00, 317.37it/s]\n"
    }
   ],
   "source": [
    "# tqdm handles progress bars.\n",
    "from tqdm import tqdm\n",
    "\n",
    "# Time and space limits for the computation should be specified. However, the rod in this example is infinitely long.\n",
    "t_stop = 10 # (s)\n",
    "x_stop = 150 # (mm)\n",
    "\n",
    "# Spatial and temporal steps, ensuring the time step is sufficiently small to allow convergence:\n",
    "Dx = 0.1 # (mm)\n",
    "Dt = (Dx**2)/(2*alpha) # (s)\n",
    "lam = (alpha*Dt)/(Dx**2)\n",
    "\n",
    "# Initial condition and boundary conditions:\n",
    "num_nodes = int(x_stop/Dx)\n",
    "num_time_steps = int(np.ceil(t_stop/Dt))\n",
    "T_exp = Ta*np.ones((num_nodes, num_time_steps))\n",
    "T_exp[0, :] = num_time_steps*[T0]\n",
    "\n",
    "# Compute the rod temperature distribution at every time step:\n",
    "for l in tqdm(range(num_time_steps - 1), desc='Preparing Explicit Numerical Solution'):\n",
    "    for i in range(1, num_nodes - 1):\n",
    "        T_exp[i, l + 1] = T_exp[i, l] + lam*(T_exp[i + 1, l] - 2*T_exp[i, l] + T_exp[i - 1, l])"
   ]
  },
  {
   "cell_type": "markdown",
   "metadata": {},
   "source": [
    "## Simple Implicit Method\n",
    "\n",
    "In the implicit method, spatial derivatives are taken at the next time step, $l + 1$.\n",
    "\n",
    "$$ \\dfrac{\\partial T}{\\partial t} \\approx \\dfrac{T^{l + 1}_{i} - T^{l}_{i}}{\\Delta t}, \\quad \\dfrac{\\partial^{2} T}{\\partial x^{2}} \\approx \\dfrac{T^{l + 1}_{i + 1} - 2T^{l + 1}_{i} + T^{l + 1}_{i - 1}}{(\\Delta x)^{2}} $$\n",
    "\n",
    "$$ \\therefore \\quad \\dfrac{T^{l + 1}_{i} - T^{l}_{i}}{\\Delta t} = \\alpha \\dfrac{T^{l + 1}_{i + 1} - 2T^{l + 1}_{i} + T^{l + 1}_{i - 1}}{(\\Delta x)^{2}} $$\n",
    "\n",
    "Recall that $\\lambda \\equiv \\alpha (\\Delta t) \\mathbin{/} (\\Delta x)^{2}$. The finite difference equation can again be rearranged to obtain the following:\n",
    "\n",
    "$$ -T^{l}_{i} - \\lambda T^{l + 1}_{i + 1} + (1 + 2 \\lambda) T^{l + 1}_{i} - \\lambda T^{l + 1}_{i - 1} = 0 $$\n",
    "\n",
    "The unknowns in this equation are the future temperatures, $T^{l + 1}_{i - 1}$, $T^{l + 1}_{i}$, and $T^{l + 1}_{i + 1}$. Due to initial conditions and boundary conditions, The temperature of the centered, current node, $T^{l}_{i}$, and the future temperature of the exterior nodes are known. Suppose for a moment that there are six nodes distributed over the 150 $mm$ length being considered. Then the above equation can be written for each of the four interior nodes and the resulting system represented as a matrix equation:\n",
    "\n",
    "$$ \n",
    "\\begin{pmatrix} \n",
    "(1 + 2 \\lambda) & -\\lambda & 0 & 0 \\\\\n",
    "-\\lambda & (1 + 2 \\lambda) & -\\lambda & 0 \\\\\n",
    "0 & -\\lambda & (1 + 2 \\lambda) & -\\lambda \\\\\n",
    "0 & 0 & -\\lambda & (1 + 2 \\lambda)\n",
    "\\end{pmatrix} \n",
    "\\begin{pmatrix} T^{l + 1}_{1} \\\\\n",
    "T^{l + 1}_{2} \\\\\n",
    "T^{l + 1}_{3} \\\\\n",
    "T^{l + 1}_{4}\n",
    "\\end{pmatrix}\n",
    "=\n",
    "\\begin{pmatrix}\n",
    "T_{a} + \\lambda T_{0} \\\\\n",
    "T_{a} \\\\\n",
    "T_{a} \\\\\n",
    "(1 + \\lambda) T_{a}\n",
    "\\end{pmatrix}\n",
    "$$\n",
    "\n",
    "Solving this system yields the temperature distribution at the time step immediately following the initial condition. Predicting the evolution of the rod's temperature with time requires solving one of these linear algebraic systems for each time step in the simulation's duration. An efficient solver of tridiagonal matrix equations can dramatically reduce this operation's computational expense. The Thomas algorithm<sub>[3]</sub> is the right tool for the job in this case. The implementation of the Thomas algorithm used here lives in `thomas_solve.py`."
   ]
  },
  {
   "cell_type": "code",
   "execution_count": 3,
   "metadata": {
    "tags": []
   },
   "outputs": [
    {
     "output_type": "stream",
     "name": "stderr",
     "text": "Preparing Implicit Numerical Solution: 100%|██████████| 998/998 [00:31<00:00, 31.59it/s]\n"
    }
   ],
   "source": [
    "# An efficient solver of tridiagonal matrix equations can dramatically reduce the computational expense of this implicit\n",
    "# simulation. The Thomas algorithm [3] is one such solver--specifically a type of L U decomposition solver. The L U \n",
    "# decomposition of the coefficient matrix can also be reused, further improving performance. See thomas_solve.py for the\n",
    "# implementation used in this simulation.\n",
    "from scipy.linalg import lu\n",
    "from thomas_solve import thomas_solve\n",
    "\n",
    "# Spatial and temporal steps:\n",
    "Dx = 0.01 # (mm)\n",
    "Dt = 0.01 # (s)\n",
    "lam = (alpha*Dt)/(Dx**2)\n",
    "num_nodes = int(x_stop/Dx)\n",
    "num_time_steps = int(np.ceil(t_stop/Dt))\n",
    "\n",
    "# The coefficient matrix is reused in every future temperature computation. Notice that the number of equations in the linear\n",
    "# algebraic system is the number of nodes minus the two on the rod's ends:\n",
    "num_eqn = num_nodes - 2\n",
    "A = (1 + 2*lam)*np.eye(num_eqn)\n",
    "off_diag = (num_eqn - 1)*[-lam]\n",
    "A = A + np.diag(off_diag, k=1) + np.diag(off_diag, k=-1)\n",
    "\n",
    "# Decompose the coefficient matrix into lower and upper triangular matrices that can be reused in the Thomas algorithm.\n",
    "# Diagonals from the L and U matrices are resolved for convenience.\n",
    "P, L, U = lu(A)\n",
    "l1 = np.diag(L, k=-1)\n",
    "u0 = np.diag(U)\n",
    "u1 = np.diag(U, k=1)\n",
    "\n",
    "# The permutation matrix must be the identity matrix:\n",
    "assert P.all() == np.eye(num_eqn).all()\n",
    "\n",
    "# Initial conditions and boundary conditions are encoded in the right-hand-side vector of the above matrix equation:\n",
    "b = np.array(num_eqn*[Ta])\n",
    "b[0] = Ta + lam*T0\n",
    "b[-1] = (1 + lam)*Ta\n",
    "\n",
    "# Prepare the implicit method solution matrix:\n",
    "T_imp = Ta*np.ones((num_nodes, num_time_steps))\n",
    "T_imp[0, :] = num_time_steps*[T0]\n",
    "\n",
    "# Iteratively solve the matrix equation Ax = b for the unknown interior temperatures and assign them to the solution matrix:\n",
    "for l in tqdm(range(1, num_time_steps - 1), desc='Preparing Implicit Numerical Solution'):\n",
    "    x = thomas_solve(l1, u0, u1, b)\n",
    "    T_imp[1:-1, l] = x\n",
    "    b = x\n",
    "    b[0] += lam*T0\n",
    "    b[-1] += lam*Ta"
   ]
  },
  {
   "cell_type": "markdown",
   "metadata": {},
   "source": [
    "These simulations produce a lot of data which could be reduced to make it easier to visualize. Each matrix of temperature data is cut down in the following cell to make future computations, including animation, easier."
   ]
  },
  {
   "cell_type": "code",
   "execution_count": 4,
   "metadata": {},
   "outputs": [],
   "source": [
    "# Cut down the data into more managable matrices of 1500 rows (positions) and 1000 columns (times):\n",
    "num_cut_time_steps = 1000\n",
    "num_cut_nodes = 1500\n",
    "exp_t_inc = int(np.shape(T_exp)[1]/num_cut_time_steps)\n",
    "imp_x_inc = int(np.shape(T_imp)[0]/num_cut_nodes)\n",
    "T_exp = T_exp[:, ::exp_t_inc]\n",
    "T_imp = T_imp[::imp_x_inc, :]"
   ]
  },
  {
   "cell_type": "markdown",
   "metadata": {},
   "source": [
    "## Visualization\n",
    "For the sake of efficiency in updating the animation of the temperature distribution evolving with time, function calls should be minimized. The previously-defined analytical solution to the PDE is now used to produce a matrix of data points."
   ]
  },
  {
   "cell_type": "code",
   "execution_count": 5,
   "metadata": {
    "tags": []
   },
   "outputs": [
    {
     "output_type": "stream",
     "name": "stderr",
     "text": "Preparing Analytical Solution: 100%|██████████| 998/998 [00:00<00:00, 8777.84it/s]\n"
    }
   ],
   "source": [
    "T_exact = np.zeros((num_cut_nodes, num_cut_time_steps))\n",
    "T_exact[:, 0] = [T0] + (num_cut_nodes - 1)*[Ta]\n",
    "xs = np.linspace(0, x_stop, num_cut_nodes)\n",
    "Dt = t_stop/num_cut_time_steps\n",
    "for l in tqdm(range(1, num_cut_time_steps - 1), desc='Preparing Analytical Solution'):\n",
    "    t = Dt*l\n",
    "    T_exact[:, l] = T(xs, t)"
   ]
  },
  {
   "cell_type": "markdown",
   "metadata": {},
   "source": [
    "The animation below compares the analytical solution to the numerically-computed solutions."
   ]
  },
  {
   "cell_type": "code",
   "execution_count": 6,
   "metadata": {
    "tags": []
   },
   "outputs": [],
   "source": [
    "%matplotlib inline\n",
    "\n",
    "import matplotlib.pyplot as plt\n",
    "import matplotlib.animation as animation\n",
    "from IPython.display import HTML, display\n",
    "    \n",
    "# Initially plot the data:\n",
    "t = 0.0\n",
    "fig, ax = plt.subplots(figsize=[7, 5])\n",
    "ax.set_title('Heat Conduction in a Thin Copper Rod', fontsize=16)\n",
    "ax.set_xlabel(r'$x \\, (mm)$')\n",
    "ax.set_ylabel(r'$T \\, (\\degree C)$')\n",
    "exact_plot, = ax.plot(xs, T_exact[:, 0], color='red', linestyle='-', linewidth=3, label='Analytical')\n",
    "exp_plot, = ax.plot(xs, T_exp[:, 0], color='orange', linestyle='--', linewidth=2, label='Explicit Numerical')\n",
    "imp_plot, = ax.plot(xs, T_imp[:, 0], color='magenta', linestyle=':', linewidth=4, label='Implicit Numerical')\n",
    "t_label = ax.text(75, 100, r'$t = %.3f$' %t, bbox={'boxstyle':'round', 'facecolor':'w', 'alpha':0.7}, fontsize=12, \n",
    "                  horizontalalignment='center', verticalalignment='center')\n",
    "ax.legend()\n",
    "ax.grid()\n",
    "\n",
    "# Target framerate is ~15 fps. The factor \"F\" is chosen such that the number of frames \"f\" is compatible with a delay \"d\"\n",
    "# between frames of 67 ms (~15 fps):\n",
    "D = t_stop*1000 # (ms)\n",
    "d = 67 # (ms)\n",
    "f = int(D/d) # (frames)\n",
    "F = int(num_time_steps/f)\n",
    "\n",
    "# Function updating the plotted data. This is called each frame of the animation.\n",
    "def update(l):\n",
    "    \n",
    "    # Get new data:\n",
    "    l *= F\n",
    "    t = l*Dt\n",
    "    \n",
    "    # Assign the new data to the plots:\n",
    "    exact_plot.set_ydata(T_exact[:, l])\n",
    "    exp_plot.set_ydata(T_exp[:, l])\n",
    "    imp_plot.set_ydata(T_imp[:, l])\n",
    "    t_label.set_text(r'$t = %.3f \\, s$' %t)\n",
    "\n",
    "# Set up the animation as a javascript widget:\n",
    "ani = animation.FuncAnimation(fig, update, frames=f, interval=d, repeat=True)\n",
    "\n",
    "# The plot can be closed now that Javascript is handling it:\n",
    "plt.close()\n",
    "\n",
    "# Save the animation as a gif. Imagemagick (https://imagemagick.org/index.php) must be installed on your system for this to\n",
    "# succeed.\n",
    "ani.save('output/1d_heat_conduction.gif', writer='imagemagick', fps=15)"
   ]
  },
  {
   "cell_type": "markdown",
   "metadata": {},
   "source": [
    "![](output/1d_heat_conduction.gif)\n",
    "\n",
    "Since the rod is infinitely long, it is legal to extend its length in the simulation. This extension becomes necessary because the numerical simulation diverges from the analytical solution if the rod is sufficiently short and/or the simulation time is sufficiently long for the far end's temperature to rise above $T_{a}$. This is because the finite difference discretization of the PDE can only be applied to interior nodes. It is appropriate that the end of the rod at $T_{0}$ remains at 100 $^{\\circ} C$ because that is the Dirichlet boundary condition specified for this problem. But the rod's far end should not be restricted in this way. Perhaps this problem can be avoided by assuming the last two nodes are isothermal--a reasonable approximation if $\\Delta x$ or the heat flux at the end of the rod is small."
   ]
  },
  {
   "cell_type": "markdown",
   "metadata": {},
   "source": [
    "## References\n",
    "1. Thermal diffusivity. (2020, June 16). Retrieved July 08, 2020, from https://en.wikipedia.org/wiki/Thermal_diffusivity\n",
    "2. Callister, W., &amp; Rethwisch, D. (2008). Diffusion. In Fundamentals of Materials Science and Engineering (3rd ed., pp. 167-168). Hoboken, NJ: Wiley.\n",
    "3. Chapra, S. C., &amp; Canale, R. P. (2015). Numerical Methods for Engineers (7th ed.). New York, NY: McGraw-Hill Education."
   ]
  }
 ],
 "metadata": {
  "jupytext": {
   "formats": "ipynb,py:percent"
  },
  "kernelspec": {
   "display_name": "Python 3",
   "language": "python",
   "name": "python3"
  },
  "language_info": {
   "codemirror_mode": {
    "name": "ipython",
    "version": 3
   },
   "file_extension": ".py",
   "mimetype": "text/x-python",
   "name": "python",
   "nbconvert_exporter": "python",
   "pygments_lexer": "ipython3",
   "version": "3.7.7-final"
  },
  "varInspector": {
   "cols": {
    "lenName": 16,
    "lenType": 16,
    "lenVar": 40
   },
   "kernels_config": {
    "python": {
     "delete_cmd_postfix": "",
     "delete_cmd_prefix": "del ",
     "library": "var_list.py",
     "varRefreshCmd": "print(var_dic_list())"
    },
    "r": {
     "delete_cmd_postfix": ") ",
     "delete_cmd_prefix": "rm(",
     "library": "var_list.r",
     "varRefreshCmd": "cat(var_dic_list()) "
    }
   },
   "position": {
    "height": "557.85px",
    "left": "1152px",
    "right": "20px",
    "top": "451px",
    "width": "563px"
   },
   "types_to_exclude": [
    "module",
    "function",
    "builtin_function_or_method",
    "instance",
    "_Feature"
   ],
   "window_display": false
  }
 },
 "nbformat": 4,
 "nbformat_minor": 2
}